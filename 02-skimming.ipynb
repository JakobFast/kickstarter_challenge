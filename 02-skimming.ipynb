{
 "cells": [
  {
   "cell_type": "code",
   "execution_count": null,
   "metadata": {},
   "outputs": [],
   "source": [
    "import pandas as pd\n",
    "import numpy as np\n",
    "import seaborn as sns\n",
    "import matplotlib.pyplot as plt\n",
    "\n",
    "# Import our own methods like this:\n",
    "import src.visualization as vs"
   ]
  },
  {
   "cell_type": "code",
   "execution_count": null,
   "metadata": {},
   "outputs": [],
   "source": [
    "# df_list = []\n",
    "\n",
    "# for filename in glob.glob('data/*.csv'):\n",
    "#     df_import = pd.read_csv(filename)\n",
    "#     df_list.append(df_import)\n",
    "\n",
    "# data = pd.concat(df_list, ignore_index=True)\n",
    "# data.to_csv('data/kickstarter.csv', index=False)\n",
    "\n",
    "#import files like this\n",
    "data = pd.read_csv('data/raw/kickstarter.csv')\n"
   ]
  },
  {
   "cell_type": "code",
   "execution_count": null,
   "metadata": {},
   "outputs": [],
   "source": [
    "pd.set_option('display.max_columns', None)\n",
    "display(data.head())\n",
    "display(data.tail())\n",
    "\n",
    "data.state.value_counts()\n"
   ]
  },
  {
   "cell_type": "code",
   "execution_count": null,
   "metadata": {},
   "outputs": [],
   "source": [
    "data[is_us] data.query('~(country == \"US\")')['usd_type'].value_counts()\n",
    "\n",
    "sns.countplot(data=data, x='staff_pick', hue='state')"
   ]
  },
  {
   "cell_type": "code",
   "execution_count": null,
   "metadata": {},
   "outputs": [],
   "source": [
    "json_columns = ['category','creator','location','photo','profile','urls']\n",
    "for column in json_columns:\n",
    "    print(data[column][3])\n",
    "    print('\\n')"
   ]
  },
  {
   "cell_type": "code",
   "execution_count": null,
   "metadata": {},
   "outputs": [],
   "source": [
    "data.query('is_starred == is_starred').head(50)"
   ]
  },
  {
   "cell_type": "code",
   "execution_count": null,
   "metadata": {},
   "outputs": [],
   "source": [
    "data[['goal','pledged','converted_pledged_amount','currency']].query('currency!=\"USD\"')"
   ]
  },
  {
   "cell_type": "code",
   "execution_count": null,
   "metadata": {},
   "outputs": [],
   "source": [
    "vs.nice_summary(data)"
   ]
  },
  {
   "cell_type": "code",
   "execution_count": null,
   "metadata": {},
   "outputs": [],
   "source": [
    "duplicates = data['id'].duplicated(keep=False)\n",
    "data[duplicates]"
   ]
  }
 ],
 "metadata": {
  "kernelspec": {
   "display_name": "neuefische_3.9",
   "language": "python",
   "name": "python3"
  },
  "language_info": {
   "codemirror_mode": {
    "name": "ipython",
    "version": 3
   },
   "file_extension": ".py",
   "mimetype": "text/x-python",
   "name": "python",
   "nbconvert_exporter": "python",
   "pygments_lexer": "ipython3",
   "version": "3.9.16"
  },
  "orig_nbformat": 4,
  "vscode": {
   "interpreter": {
    "hash": "309606f209db4fc5c1154461673897e078aa13a2c12d82a588e6345b008e720c"
   }
  }
 },
 "nbformat": 4,
 "nbformat_minor": 2
}
