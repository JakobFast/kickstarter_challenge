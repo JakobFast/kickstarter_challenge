{
 "cells": [
  {
   "cell_type": "code",
   "execution_count": 58,
   "metadata": {},
   "outputs": [],
   "source": [
    "import os\n",
    "\n",
    "import pandas as pd\n",
    "import numpy as np\n",
    "import datetime as dt\n",
    "\n",
    "import seaborn as sns\n",
    "import matplotlib.pyplot as plt\n",
    "\n",
    "import src.visualization as vs\n",
    "import src.json_cleaning as jc\n"
   ]
  },
  {
   "cell_type": "code",
   "execution_count": 82,
   "metadata": {},
   "outputs": [],
   "source": [
    "data = pd.read_csv('data/raw/kickstarter.csv')"
   ]
  },
  {
   "cell_type": "code",
   "execution_count": 83,
   "metadata": {},
   "outputs": [
    {
     "data": {
      "text/plain": [
       "(209222, 37)"
      ]
     },
     "execution_count": 83,
     "metadata": {},
     "output_type": "execute_result"
    }
   ],
   "source": [
    "data.shape"
   ]
  },
  {
   "cell_type": "code",
   "execution_count": 84,
   "metadata": {},
   "outputs": [
    {
     "data": {
      "text/plain": [
       "(209222, 15)"
      ]
     },
     "execution_count": 84,
     "metadata": {},
     "output_type": "execute_result"
    }
   ],
   "source": [
    "# dropping columns\n",
    "drop_these = [\n",
    "    'converted_pledged_amount',\n",
    "    'currency',\n",
    "    'currency_symbol',\n",
    "    'currency_trailing_code',\n",
    "    'current_currency',\n",
    "    'disable_communication',\n",
    "    'friends',\n",
    "    'fx_rate',\n",
    "    #'id',\n",
    "    'is_backing',\n",
    "    'is_starrable',\n",
    "    'is_starred',\n",
    "    'permissions',\n",
    "    'pledged',\n",
    "    'slug',\n",
    "    'source_url',\n",
    "    'spotlight',\n",
    "    'state_changed_at',\n",
    "    'urls',\n",
    "    #'usd_type'\n",
    "    ]\n",
    "\n",
    "drop_these_too = [\n",
    "    'creator',\n",
    "    'location',\n",
    "    'photo',\n",
    "    'profile',\n",
    "]\n",
    "\n",
    "data.drop(drop_these, axis=1, inplace=True)\n",
    "data.drop(drop_these_too, axis=1, inplace=True)\n",
    "\n",
    "data.shape"
   ]
  },
  {
   "cell_type": "code",
   "execution_count": 85,
   "metadata": {},
   "outputs": [
    {
     "data": {
      "text/plain": [
       "(209222, 14)"
      ]
     },
     "execution_count": 85,
     "metadata": {},
     "output_type": "execute_result"
    }
   ],
   "source": [
    "# convert goal with static_usd_rate, drop both afterwards and keep converted goal\n",
    "def goal_convert(df):\n",
    "    df['converted_goal'] = (df['goal'].mul(df['static_usd_rate'])).round(2)\n",
    "    df['usd_pledged'] = df['usd_pledged'].round(2)\n",
    "    df.drop(['goal','static_usd_rate'], axis =1, inplace = True)\n",
    "    return df\n",
    "\n",
    "data = goal_convert(data)\n",
    "\n",
    "data.shape"
   ]
  },
  {
   "cell_type": "code",
   "execution_count": 86,
   "metadata": {},
   "outputs": [
    {
     "data": {
      "text/plain": [
       "(209222, 14)"
      ]
     },
     "execution_count": 86,
     "metadata": {},
     "output_type": "execute_result"
    }
   ],
   "source": [
    "# 'blurb' and 'name' to len()\n",
    "def string_length(df):\n",
    "    df['len_blurb'] = df['blurb'].str.split().str.len()\n",
    "    df['len_name'] = df['name'].str.split().str.len()\n",
    "    df.drop(['blurb', 'name'], axis = 1, inplace = True)\n",
    "    return df\n",
    "\n",
    "data = string_length(data)\n",
    "\n",
    "data.shape"
   ]
  },
  {
   "cell_type": "code",
   "execution_count": 87,
   "metadata": {},
   "outputs": [
    {
     "data": {
      "text/plain": [
       "(209222, 13)"
      ]
     },
     "execution_count": 87,
     "metadata": {},
     "output_type": "execute_result"
    }
   ],
   "source": [
    "# created and launch time windows\n",
    "date_columns = ['created_at','deadline','launched_at']\n",
    "\n",
    "# for column in date_columns:\n",
    "#     data[column] = data[column].apply(dt.datetime.fromtimestamp)\n",
    "\n",
    "launch_to_deadline = (data['deadline'] - data['launched_at'])\n",
    "creation_to_launch = (data['launched_at'] - data['created_at'])\n",
    "\n",
    "data['launch_to_deadline'] = launch_to_deadline\n",
    "data['creation_to_launch'] = creation_to_launch\n",
    "\n",
    "data.drop(date_columns, axis=1, inplace=True)\n",
    "\n",
    "# launch_to_deadline_days = launch_to_deadline.dt.days\n",
    "# launch_to_deadline_minutes = launch_to_deadline.dt.seconds // 60\n",
    "\n",
    "# creation_to_launch_days = creation_to_launch.dt.days\n",
    "# creation_to_launch_minutes = creation_to_launch.dt.seconds // 60\n",
    "\n",
    "# time_df = pd.concat([launch_to_deadline_days, launch_to_deadline_minutes,\n",
    "#                      creation_to_launch_days, creation_to_launch_minutes],\n",
    "#                     axis=1,\n",
    "#                     keys = ['launch_to_deadline_days', 'launch_to_deadline_minutes',\n",
    "#                             'creation_to_launch_days', 'creation_to_launch_minutes'])\n",
    "\n",
    "data.shape"
   ]
  },
  {
   "cell_type": "code",
   "execution_count": 88,
   "metadata": {},
   "outputs": [
    {
     "data": {
      "text/plain": [
       "(209222, 13)"
      ]
     },
     "execution_count": 88,
     "metadata": {},
     "output_type": "execute_result"
    }
   ],
   "source": [
    "# convert category vars to categories\n",
    "data = jc.process_dataframe(data)\n",
    "data.drop(['category_slug','category_id'], axis=1, inplace=True)\n",
    "\n",
    "data.shape"
   ]
  },
  {
   "cell_type": "code",
   "execution_count": 89,
   "metadata": {},
   "outputs": [
    {
     "data": {
      "text/plain": [
       "(192664, 13)"
      ]
     },
     "execution_count": 89,
     "metadata": {},
     "output_type": "execute_result"
    }
   ],
   "source": [
    "# drop everything that isn't successful or failed\n",
    "data = data.query('state == \"successful\" | state == \"failed\" ')\n",
    "data.state = data.state.apply(lambda x: 0 if 'failed' in x else 1)\n",
    "\n",
    "data.shape"
   ]
  },
  {
   "cell_type": "code",
   "execution_count": 90,
   "metadata": {},
   "outputs": [
    {
     "data": {
      "text/html": [
       "<div>\n",
       "<style scoped>\n",
       "    .dataframe tbody tr th:only-of-type {\n",
       "        vertical-align: middle;\n",
       "    }\n",
       "\n",
       "    .dataframe tbody tr th {\n",
       "        vertical-align: top;\n",
       "    }\n",
       "\n",
       "    .dataframe thead th {\n",
       "        text-align: right;\n",
       "    }\n",
       "</style>\n",
       "<table border=\"1\" class=\"dataframe\">\n",
       "  <thead>\n",
       "    <tr style=\"text-align: right;\">\n",
       "      <th></th>\n",
       "      <th>backers_count</th>\n",
       "      <th>country</th>\n",
       "      <th>id</th>\n",
       "      <th>staff_pick</th>\n",
       "      <th>state</th>\n",
       "      <th>usd_pledged</th>\n",
       "      <th>usd_type</th>\n",
       "      <th>converted_goal</th>\n",
       "      <th>len_blurb</th>\n",
       "      <th>len_name</th>\n",
       "      <th>launch_to_deadline</th>\n",
       "      <th>creation_to_launch</th>\n",
       "      <th>category_name</th>\n",
       "    </tr>\n",
       "  </thead>\n",
       "  <tbody>\n",
       "    <tr>\n",
       "      <th>0</th>\n",
       "      <td>21</td>\n",
       "      <td>US</td>\n",
       "      <td>287514992</td>\n",
       "      <td>False</td>\n",
       "      <td>1</td>\n",
       "      <td>802.00</td>\n",
       "      <td>international</td>\n",
       "      <td>200.0</td>\n",
       "      <td>26.0</td>\n",
       "      <td>4</td>\n",
       "      <td>3888000</td>\n",
       "      <td>351356</td>\n",
       "      <td>Rock</td>\n",
       "    </tr>\n",
       "    <tr>\n",
       "      <th>1</th>\n",
       "      <td>97</td>\n",
       "      <td>US</td>\n",
       "      <td>385129759</td>\n",
       "      <td>False</td>\n",
       "      <td>1</td>\n",
       "      <td>2259.00</td>\n",
       "      <td>international</td>\n",
       "      <td>400.0</td>\n",
       "      <td>9.0</td>\n",
       "      <td>5</td>\n",
       "      <td>1728000</td>\n",
       "      <td>413843</td>\n",
       "      <td>Mixed Media</td>\n",
       "    </tr>\n",
       "    <tr>\n",
       "      <th>2</th>\n",
       "      <td>88</td>\n",
       "      <td>US</td>\n",
       "      <td>681033598</td>\n",
       "      <td>True</td>\n",
       "      <td>1</td>\n",
       "      <td>29638.00</td>\n",
       "      <td>international</td>\n",
       "      <td>27224.0</td>\n",
       "      <td>25.0</td>\n",
       "      <td>9</td>\n",
       "      <td>2595600</td>\n",
       "      <td>769946</td>\n",
       "      <td>Photobooks</td>\n",
       "    </tr>\n",
       "    <tr>\n",
       "      <th>3</th>\n",
       "      <td>193</td>\n",
       "      <td>IT</td>\n",
       "      <td>1031782682</td>\n",
       "      <td>False</td>\n",
       "      <td>1</td>\n",
       "      <td>49075.15</td>\n",
       "      <td>international</td>\n",
       "      <td>45461.0</td>\n",
       "      <td>13.0</td>\n",
       "      <td>5</td>\n",
       "      <td>3625358</td>\n",
       "      <td>314662</td>\n",
       "      <td>Footwear</td>\n",
       "    </tr>\n",
       "    <tr>\n",
       "      <th>4</th>\n",
       "      <td>20</td>\n",
       "      <td>US</td>\n",
       "      <td>904085819</td>\n",
       "      <td>False</td>\n",
       "      <td>0</td>\n",
       "      <td>549.00</td>\n",
       "      <td>domestic</td>\n",
       "      <td>1000.0</td>\n",
       "      <td>22.0</td>\n",
       "      <td>4</td>\n",
       "      <td>2592000</td>\n",
       "      <td>212500</td>\n",
       "      <td>Software</td>\n",
       "    </tr>\n",
       "    <tr>\n",
       "      <th>...</th>\n",
       "      <td>...</td>\n",
       "      <td>...</td>\n",
       "      <td>...</td>\n",
       "      <td>...</td>\n",
       "      <td>...</td>\n",
       "      <td>...</td>\n",
       "      <td>...</td>\n",
       "      <td>...</td>\n",
       "      <td>...</td>\n",
       "      <td>...</td>\n",
       "      <td>...</td>\n",
       "      <td>...</td>\n",
       "      <td>...</td>\n",
       "    </tr>\n",
       "    <tr>\n",
       "      <th>209217</th>\n",
       "      <td>57</td>\n",
       "      <td>US</td>\n",
       "      <td>1075220536</td>\n",
       "      <td>False</td>\n",
       "      <td>1</td>\n",
       "      <td>10320.00</td>\n",
       "      <td>international</td>\n",
       "      <td>10000.0</td>\n",
       "      <td>25.0</td>\n",
       "      <td>5</td>\n",
       "      <td>3884400</td>\n",
       "      <td>589637</td>\n",
       "      <td>Drinks</td>\n",
       "    </tr>\n",
       "    <tr>\n",
       "      <th>209218</th>\n",
       "      <td>11</td>\n",
       "      <td>AU</td>\n",
       "      <td>298098561</td>\n",
       "      <td>False</td>\n",
       "      <td>0</td>\n",
       "      <td>316.50</td>\n",
       "      <td>domestic</td>\n",
       "      <td>5820.6</td>\n",
       "      <td>20.0</td>\n",
       "      <td>10</td>\n",
       "      <td>2592000</td>\n",
       "      <td>368044</td>\n",
       "      <td>Cookbooks</td>\n",
       "    </tr>\n",
       "    <tr>\n",
       "      <th>209219</th>\n",
       "      <td>0</td>\n",
       "      <td>US</td>\n",
       "      <td>2048460852</td>\n",
       "      <td>False</td>\n",
       "      <td>0</td>\n",
       "      <td>0.00</td>\n",
       "      <td>international</td>\n",
       "      <td>8000.0</td>\n",
       "      <td>12.0</td>\n",
       "      <td>4</td>\n",
       "      <td>2592000</td>\n",
       "      <td>1254071</td>\n",
       "      <td>Childrenswear</td>\n",
       "    </tr>\n",
       "    <tr>\n",
       "      <th>209220</th>\n",
       "      <td>11</td>\n",
       "      <td>US</td>\n",
       "      <td>1124247806</td>\n",
       "      <td>False</td>\n",
       "      <td>1</td>\n",
       "      <td>1400.00</td>\n",
       "      <td>domestic</td>\n",
       "      <td>1000.0</td>\n",
       "      <td>22.0</td>\n",
       "      <td>12</td>\n",
       "      <td>2552555</td>\n",
       "      <td>86747</td>\n",
       "      <td>Children's Books</td>\n",
       "    </tr>\n",
       "    <tr>\n",
       "      <th>209221</th>\n",
       "      <td>49</td>\n",
       "      <td>GB</td>\n",
       "      <td>787821279</td>\n",
       "      <td>False</td>\n",
       "      <td>1</td>\n",
       "      <td>5118.80</td>\n",
       "      <td>international</td>\n",
       "      <td>4184.3</td>\n",
       "      <td>20.0</td>\n",
       "      <td>5</td>\n",
       "      <td>5184000</td>\n",
       "      <td>4849639</td>\n",
       "      <td>Painting</td>\n",
       "    </tr>\n",
       "  </tbody>\n",
       "</table>\n",
       "<p>192664 rows × 13 columns</p>\n",
       "</div>"
      ],
      "text/plain": [
       "        backers_count country          id  staff_pick  state  usd_pledged  \\\n",
       "0                  21      US   287514992       False      1       802.00   \n",
       "1                  97      US   385129759       False      1      2259.00   \n",
       "2                  88      US   681033598        True      1     29638.00   \n",
       "3                 193      IT  1031782682       False      1     49075.15   \n",
       "4                  20      US   904085819       False      0       549.00   \n",
       "...               ...     ...         ...         ...    ...          ...   \n",
       "209217             57      US  1075220536       False      1     10320.00   \n",
       "209218             11      AU   298098561       False      0       316.50   \n",
       "209219              0      US  2048460852       False      0         0.00   \n",
       "209220             11      US  1124247806       False      1      1400.00   \n",
       "209221             49      GB   787821279       False      1      5118.80   \n",
       "\n",
       "             usd_type  converted_goal  len_blurb  len_name  \\\n",
       "0       international           200.0       26.0         4   \n",
       "1       international           400.0        9.0         5   \n",
       "2       international         27224.0       25.0         9   \n",
       "3       international         45461.0       13.0         5   \n",
       "4            domestic          1000.0       22.0         4   \n",
       "...               ...             ...        ...       ...   \n",
       "209217  international         10000.0       25.0         5   \n",
       "209218       domestic          5820.6       20.0        10   \n",
       "209219  international          8000.0       12.0         4   \n",
       "209220       domestic          1000.0       22.0        12   \n",
       "209221  international          4184.3       20.0         5   \n",
       "\n",
       "        launch_to_deadline  creation_to_launch     category_name  \n",
       "0                  3888000              351356              Rock  \n",
       "1                  1728000              413843       Mixed Media  \n",
       "2                  2595600              769946        Photobooks  \n",
       "3                  3625358              314662          Footwear  \n",
       "4                  2592000              212500          Software  \n",
       "...                    ...                 ...               ...  \n",
       "209217             3884400              589637            Drinks  \n",
       "209218             2592000              368044         Cookbooks  \n",
       "209219             2592000             1254071     Childrenswear  \n",
       "209220             2552555               86747  Children's Books  \n",
       "209221             5184000             4849639          Painting  \n",
       "\n",
       "[192664 rows x 13 columns]"
      ]
     },
     "execution_count": 90,
     "metadata": {},
     "output_type": "execute_result"
    }
   ],
   "source": [
    "data"
   ]
  },
  {
   "cell_type": "code",
   "execution_count": 91,
   "metadata": {},
   "outputs": [
    {
     "data": {
      "text/html": [
       "<div>\n",
       "<style scoped>\n",
       "    .dataframe tbody tr th:only-of-type {\n",
       "        vertical-align: middle;\n",
       "    }\n",
       "\n",
       "    .dataframe tbody tr th {\n",
       "        vertical-align: top;\n",
       "    }\n",
       "\n",
       "    .dataframe thead th {\n",
       "        text-align: right;\n",
       "    }\n",
       "</style>\n",
       "<table border=\"1\" class=\"dataframe\">\n",
       "  <thead>\n",
       "    <tr style=\"text-align: right;\">\n",
       "      <th></th>\n",
       "      <th>Columns</th>\n",
       "      <th>Dtype</th>\n",
       "      <th>nunique</th>\n",
       "      <th>Non-Null Count</th>\n",
       "      <th>Missing</th>\n",
       "      <th>Missing %</th>\n",
       "      <th>Zero Count</th>\n",
       "      <th>mean</th>\n",
       "      <th>std</th>\n",
       "      <th>min</th>\n",
       "      <th>25%</th>\n",
       "      <th>50%</th>\n",
       "      <th>75%</th>\n",
       "      <th>max</th>\n",
       "    </tr>\n",
       "  </thead>\n",
       "  <tbody>\n",
       "    <tr>\n",
       "      <th>0</th>\n",
       "      <td>backers_count</td>\n",
       "      <td>int64</td>\n",
       "      <td>3206</td>\n",
       "      <td>192664</td>\n",
       "      <td>-</td>\n",
       "      <td>-</td>\n",
       "      <td>15009</td>\n",
       "      <td>152.56</td>\n",
       "      <td>898.35</td>\n",
       "      <td>0.0</td>\n",
       "      <td>4.0</td>\n",
       "      <td>30.0</td>\n",
       "      <td>94.25</td>\n",
       "      <td>105857.0</td>\n",
       "    </tr>\n",
       "    <tr>\n",
       "      <th>1</th>\n",
       "      <td>country</td>\n",
       "      <td>object</td>\n",
       "      <td>22</td>\n",
       "      <td>192664</td>\n",
       "      <td>-</td>\n",
       "      <td>-</td>\n",
       "      <td>0</td>\n",
       "      <td>-</td>\n",
       "      <td>-</td>\n",
       "      <td>-</td>\n",
       "      <td>-</td>\n",
       "      <td>-</td>\n",
       "      <td>-</td>\n",
       "      <td>-</td>\n",
       "    </tr>\n",
       "    <tr>\n",
       "      <th>2</th>\n",
       "      <td>id</td>\n",
       "      <td>int64</td>\n",
       "      <td>168979</td>\n",
       "      <td>192664</td>\n",
       "      <td>-</td>\n",
       "      <td>-</td>\n",
       "      <td>0</td>\n",
       "      <td>1072714769.16</td>\n",
       "      <td>619547552.42</td>\n",
       "      <td>8624.0</td>\n",
       "      <td>534701705.25</td>\n",
       "      <td>1074131814.5</td>\n",
       "      <td>1608192065.75</td>\n",
       "      <td>2147476221.0</td>\n",
       "    </tr>\n",
       "    <tr>\n",
       "      <th>3</th>\n",
       "      <td>staff_pick</td>\n",
       "      <td>bool</td>\n",
       "      <td>2</td>\n",
       "      <td>192664</td>\n",
       "      <td>-</td>\n",
       "      <td>-</td>\n",
       "      <td>166671</td>\n",
       "      <td>-</td>\n",
       "      <td>-</td>\n",
       "      <td>-</td>\n",
       "      <td>-</td>\n",
       "      <td>-</td>\n",
       "      <td>-</td>\n",
       "      <td>-</td>\n",
       "    </tr>\n",
       "    <tr>\n",
       "      <th>4</th>\n",
       "      <td>state</td>\n",
       "      <td>int64</td>\n",
       "      <td>2</td>\n",
       "      <td>192664</td>\n",
       "      <td>-</td>\n",
       "      <td>-</td>\n",
       "      <td>75199</td>\n",
       "      <td>0.61</td>\n",
       "      <td>0.49</td>\n",
       "      <td>0.0</td>\n",
       "      <td>0.0</td>\n",
       "      <td>1.0</td>\n",
       "      <td>1.0</td>\n",
       "      <td>1.0</td>\n",
       "    </tr>\n",
       "    <tr>\n",
       "      <th>5</th>\n",
       "      <td>usd_pledged</td>\n",
       "      <td>float64</td>\n",
       "      <td>69813</td>\n",
       "      <td>192664</td>\n",
       "      <td>-</td>\n",
       "      <td>-</td>\n",
       "      <td>15009</td>\n",
       "      <td>13516.72</td>\n",
       "      <td>89183.97</td>\n",
       "      <td>0.0</td>\n",
       "      <td>150.0</td>\n",
       "      <td>1772.0</td>\n",
       "      <td>7096.62</td>\n",
       "      <td>8596474.58</td>\n",
       "    </tr>\n",
       "    <tr>\n",
       "      <th>6</th>\n",
       "      <td>usd_type</td>\n",
       "      <td>object</td>\n",
       "      <td>2</td>\n",
       "      <td>192626</td>\n",
       "      <td>38</td>\n",
       "      <td>0.02</td>\n",
       "      <td>0</td>\n",
       "      <td>-</td>\n",
       "      <td>-</td>\n",
       "      <td>-</td>\n",
       "      <td>-</td>\n",
       "      <td>-</td>\n",
       "      <td>-</td>\n",
       "      <td>-</td>\n",
       "    </tr>\n",
       "    <tr>\n",
       "      <th>7</th>\n",
       "      <td>converted_goal</td>\n",
       "      <td>float64</td>\n",
       "      <td>45248</td>\n",
       "      <td>192664</td>\n",
       "      <td>-</td>\n",
       "      <td>-</td>\n",
       "      <td>0</td>\n",
       "      <td>37787.67</td>\n",
       "      <td>1065708.76</td>\n",
       "      <td>0.01</td>\n",
       "      <td>1500.0</td>\n",
       "      <td>5000.0</td>\n",
       "      <td>12447.04</td>\n",
       "      <td>152350076.0</td>\n",
       "    </tr>\n",
       "    <tr>\n",
       "      <th>8</th>\n",
       "      <td>len_blurb</td>\n",
       "      <td>float64</td>\n",
       "      <td>35</td>\n",
       "      <td>192662</td>\n",
       "      <td>2</td>\n",
       "      <td>-</td>\n",
       "      <td>0</td>\n",
       "      <td>18.89</td>\n",
       "      <td>5.01</td>\n",
       "      <td>1.0</td>\n",
       "      <td>16.0</td>\n",
       "      <td>20.0</td>\n",
       "      <td>22.0</td>\n",
       "      <td>35.0</td>\n",
       "    </tr>\n",
       "    <tr>\n",
       "      <th>9</th>\n",
       "      <td>len_name</td>\n",
       "      <td>int64</td>\n",
       "      <td>20</td>\n",
       "      <td>192664</td>\n",
       "      <td>-</td>\n",
       "      <td>-</td>\n",
       "      <td>0</td>\n",
       "      <td>5.77</td>\n",
       "      <td>2.71</td>\n",
       "      <td>1.0</td>\n",
       "      <td>4.0</td>\n",
       "      <td>6.0</td>\n",
       "      <td>8.0</td>\n",
       "      <td>27.0</td>\n",
       "    </tr>\n",
       "    <tr>\n",
       "      <th>10</th>\n",
       "      <td>launch_to_deadline</td>\n",
       "      <td>int64</td>\n",
       "      <td>47963</td>\n",
       "      <td>192664</td>\n",
       "      <td>-</td>\n",
       "      <td>-</td>\n",
       "      <td>0</td>\n",
       "      <td>2798775.41</td>\n",
       "      <td>1006330.46</td>\n",
       "      <td>86400.0</td>\n",
       "      <td>2588400.0</td>\n",
       "      <td>2592000.0</td>\n",
       "      <td>2905085.25</td>\n",
       "      <td>8044324.0</td>\n",
       "    </tr>\n",
       "    <tr>\n",
       "      <th>11</th>\n",
       "      <td>creation_to_launch</td>\n",
       "      <td>int64</td>\n",
       "      <td>160540</td>\n",
       "      <td>192664</td>\n",
       "      <td>-</td>\n",
       "      <td>-</td>\n",
       "      <td>0</td>\n",
       "      <td>4109730.82</td>\n",
       "      <td>11239239.62</td>\n",
       "      <td>236.0</td>\n",
       "      <td>258137.5</td>\n",
       "      <td>983526.5</td>\n",
       "      <td>3183470.0</td>\n",
       "      <td>285428640.0</td>\n",
       "    </tr>\n",
       "    <tr>\n",
       "      <th>12</th>\n",
       "      <td>category_name</td>\n",
       "      <td>object</td>\n",
       "      <td>159</td>\n",
       "      <td>192664</td>\n",
       "      <td>-</td>\n",
       "      <td>-</td>\n",
       "      <td>0</td>\n",
       "      <td>-</td>\n",
       "      <td>-</td>\n",
       "      <td>-</td>\n",
       "      <td>-</td>\n",
       "      <td>-</td>\n",
       "      <td>-</td>\n",
       "      <td>-</td>\n",
       "    </tr>\n",
       "  </tbody>\n",
       "</table>\n",
       "</div>"
      ],
      "text/plain": [
       "               Columns    Dtype  nunique  Non-Null Count Missing Missing %  \\\n",
       "0        backers_count    int64     3206          192664       -         -   \n",
       "1              country   object       22          192664       -         -   \n",
       "2                   id    int64   168979          192664       -         -   \n",
       "3           staff_pick     bool        2          192664       -         -   \n",
       "4                state    int64        2          192664       -         -   \n",
       "5          usd_pledged  float64    69813          192664       -         -   \n",
       "6             usd_type   object        2          192626      38      0.02   \n",
       "7       converted_goal  float64    45248          192664       -         -   \n",
       "8            len_blurb  float64       35          192662       2         -   \n",
       "9             len_name    int64       20          192664       -         -   \n",
       "10  launch_to_deadline    int64    47963          192664       -         -   \n",
       "11  creation_to_launch    int64   160540          192664       -         -   \n",
       "12       category_name   object      159          192664       -         -   \n",
       "\n",
       "    Zero Count           mean           std      min           25%  \\\n",
       "0        15009         152.56        898.35      0.0           4.0   \n",
       "1            0              -             -        -             -   \n",
       "2            0  1072714769.16  619547552.42   8624.0  534701705.25   \n",
       "3       166671              -             -        -             -   \n",
       "4        75199           0.61          0.49      0.0           0.0   \n",
       "5        15009       13516.72      89183.97      0.0         150.0   \n",
       "6            0              -             -        -             -   \n",
       "7            0       37787.67    1065708.76     0.01        1500.0   \n",
       "8            0          18.89          5.01      1.0          16.0   \n",
       "9            0           5.77          2.71      1.0           4.0   \n",
       "10           0     2798775.41    1006330.46  86400.0     2588400.0   \n",
       "11           0     4109730.82   11239239.62    236.0      258137.5   \n",
       "12           0              -             -        -             -   \n",
       "\n",
       "             50%            75%           max  \n",
       "0           30.0          94.25      105857.0  \n",
       "1              -              -             -  \n",
       "2   1074131814.5  1608192065.75  2147476221.0  \n",
       "3              -              -             -  \n",
       "4            1.0            1.0           1.0  \n",
       "5         1772.0        7096.62    8596474.58  \n",
       "6              -              -             -  \n",
       "7         5000.0       12447.04   152350076.0  \n",
       "8           20.0           22.0          35.0  \n",
       "9            6.0            8.0          27.0  \n",
       "10     2592000.0     2905085.25     8044324.0  \n",
       "11      983526.5      3183470.0   285428640.0  \n",
       "12             -              -             -  "
      ]
     },
     "execution_count": 91,
     "metadata": {},
     "output_type": "execute_result"
    }
   ],
   "source": [
    "vs.nice_summary(data)\n",
    "\n",
    "# sns.histplot(data=time_df, x='launch_to_deadline')\n",
    "\n",
    "# it looks like projects can be created but not immediately launched\n",
    "# once a project is launched there is a maximum funding time of 93 days (3 months)\n",
    "\n",
    "# when do people launch their projects?\n",
    "# when are they more likely to postpone the launch?"
   ]
  },
  {
   "cell_type": "code",
   "execution_count": 92,
   "metadata": {},
   "outputs": [],
   "source": [
    "data.to_csv(os.path.join('data/processed/', 'kickstarter_clean.csv'), index=False)"
   ]
  },
  {
   "cell_type": "code",
   "execution_count": 93,
   "metadata": {},
   "outputs": [
    {
     "data": {
      "text/plain": [
       "<AxesSubplot:xlabel='state', ylabel='count'>"
      ]
     },
     "execution_count": 93,
     "metadata": {},
     "output_type": "execute_result"
    },
    {
     "data": {
      "image/png": "[encoded data removed]",
      "text/plain": [
       "<Figure size 640x480 with 1 Axes>"
      ]
     },
     "metadata": {},
     "output_type": "display_data"
    }
   ],
   "source": [
    "sns.countplot(data=data, x='state', hue='usd_type')"
   ]
  },
  {
   "cell_type": "code",
   "execution_count": 41,
   "metadata": {},
   "outputs": [
    {
     "ename": "NameError",
     "evalue": "name 'time_df' is not defined",
     "output_type": "error",
     "traceback": [
      "\u001b[1;31m---------------------------------------------------------------------------\u001b[0m",
      "\u001b[1;31mNameError\u001b[0m                                 Traceback (most recent call last)",
      "Cell \u001b[1;32mIn[41], line 4\u001b[0m\n\u001b[0;32m      2\u001b[0m plt\u001b[39m.\u001b[39msubplots_adjust(hspace\u001b[39m=\u001b[39m\u001b[39m0.5\u001b[39m)\n\u001b[0;32m      3\u001b[0m i \u001b[39m=\u001b[39m \u001b[39m1\u001b[39m;\n\u001b[1;32m----> 4\u001b[0m \u001b[39mfor\u001b[39;00m name \u001b[39min\u001b[39;00m time_df\u001b[39m.\u001b[39mcolumns\u001b[39m.\u001b[39mtolist():\n\u001b[0;32m      5\u001b[0m     plt\u001b[39m.\u001b[39msubplot(\u001b[39m5\u001b[39m,\u001b[39m2\u001b[39m,i)\n\u001b[0;32m      6\u001b[0m     sns\u001b[39m.\u001b[39mboxplot(data\u001b[39m=\u001b[39mtime_df, x\u001b[39m=\u001b[39mname)\n",
      "\u001b[1;31mNameError\u001b[0m: name 'time_df' is not defined"
     ]
    },
    {
     "data": {
      "text/plain": [
       "<Figure size 2000x3000 with 0 Axes>"
      ]
     },
     "metadata": {},
     "output_type": "display_data"
    }
   ],
   "source": [
    "plt.figure(figsize=(20, 30))\n",
    "plt.subplots_adjust(hspace=0.5)\n",
    "i = 1;\n",
    "for name in time_df.columns.tolist():\n",
    "    plt.subplot(5,2,i)\n",
    "    sns.boxplot(data=time_df, x=name)\n",
    "    i = i + 1"
   ]
  },
  {
   "cell_type": "code",
   "execution_count": null,
   "metadata": {},
   "outputs": [
    {
     "ename": "UndefinedVariableError",
     "evalue": "name 'pledged' is not defined",
     "output_type": "error",
     "traceback": [
      "\u001b[1;31m---------------------------------------------------------------------------\u001b[0m",
      "\u001b[1;31mKeyError\u001b[0m                                  Traceback (most recent call last)",
      "File \u001b[1;32mc:\\ProgramData\\Anaconda3\\envs\\neuefische_3.9\\lib\\site-packages\\pandas\\core\\computation\\scope.py:200\u001b[0m, in \u001b[0;36mScope.resolve\u001b[1;34m(self, key, is_local)\u001b[0m\n\u001b[0;32m    199\u001b[0m \u001b[39mif\u001b[39;00m \u001b[39mself\u001b[39m\u001b[39m.\u001b[39mhas_resolvers:\n\u001b[1;32m--> 200\u001b[0m     \u001b[39mreturn\u001b[39;00m \u001b[39mself\u001b[39;49m\u001b[39m.\u001b[39;49mresolvers[key]\n\u001b[0;32m    202\u001b[0m \u001b[39m# if we're here that means that we have no locals and we also have\u001b[39;00m\n\u001b[0;32m    203\u001b[0m \u001b[39m# no resolvers\u001b[39;00m\n",
      "File \u001b[1;32mc:\\ProgramData\\Anaconda3\\envs\\neuefische_3.9\\lib\\collections\\__init__.py:941\u001b[0m, in \u001b[0;36mChainMap.__getitem__\u001b[1;34m(self, key)\u001b[0m\n\u001b[0;32m    940\u001b[0m         \u001b[39mpass\u001b[39;00m\n\u001b[1;32m--> 941\u001b[0m \u001b[39mreturn\u001b[39;00m \u001b[39mself\u001b[39;49m\u001b[39m.\u001b[39;49m\u001b[39m__missing__\u001b[39;49m(key)\n",
      "File \u001b[1;32mc:\\ProgramData\\Anaconda3\\envs\\neuefische_3.9\\lib\\collections\\__init__.py:933\u001b[0m, in \u001b[0;36mChainMap.__missing__\u001b[1;34m(self, key)\u001b[0m\n\u001b[0;32m    932\u001b[0m \u001b[39mdef\u001b[39;00m \u001b[39m__missing__\u001b[39m(\u001b[39mself\u001b[39m, key):\n\u001b[1;32m--> 933\u001b[0m     \u001b[39mraise\u001b[39;00m \u001b[39mKeyError\u001b[39;00m(key)\n",
      "\u001b[1;31mKeyError\u001b[0m: 'pledged'",
      "\nDuring handling of the above exception, another exception occurred:\n",
      "\u001b[1;31mKeyError\u001b[0m                                  Traceback (most recent call last)",
      "File \u001b[1;32mc:\\ProgramData\\Anaconda3\\envs\\neuefische_3.9\\lib\\site-packages\\pandas\\core\\computation\\scope.py:211\u001b[0m, in \u001b[0;36mScope.resolve\u001b[1;34m(self, key, is_local)\u001b[0m\n\u001b[0;32m    207\u001b[0m \u001b[39mtry\u001b[39;00m:\n\u001b[0;32m    208\u001b[0m     \u001b[39m# last ditch effort we look in temporaries\u001b[39;00m\n\u001b[0;32m    209\u001b[0m     \u001b[39m# these are created when parsing indexing expressions\u001b[39;00m\n\u001b[0;32m    210\u001b[0m     \u001b[39m# e.g., df[df > 0]\u001b[39;00m\n\u001b[1;32m--> 211\u001b[0m     \u001b[39mreturn\u001b[39;00m \u001b[39mself\u001b[39;49m\u001b[39m.\u001b[39;49mtemps[key]\n\u001b[0;32m    212\u001b[0m \u001b[39mexcept\u001b[39;00m \u001b[39mKeyError\u001b[39;00m \u001b[39mas\u001b[39;00m err:\n\u001b[0;32m    213\u001b[0m     \u001b[39m# runtime import because ops imports from scope\u001b[39;00m\n",
      "\u001b[1;31mKeyError\u001b[0m: 'pledged'",
      "\nThe above exception was the direct cause of the following exception:\n",
      "\u001b[1;31mUndefinedVariableError\u001b[0m                    Traceback (most recent call last)",
      "Cell \u001b[1;32mIn[104], line 3\u001b[0m\n\u001b[0;32m      1\u001b[0m \u001b[39m# KEEP ONLY SUCCESSFUL AND FAILED (otherwise comparing apples and pears (:  )\u001b[39;00m\n\u001b[1;32m----> 3\u001b[0m display(data\u001b[39m.\u001b[39;49mquery(\u001b[39m'\u001b[39;49m\u001b[39mpledged >= goal and state == False\u001b[39;49m\u001b[39m'\u001b[39;49m)\u001b[39m.\u001b[39mgroupby(\u001b[39m'\u001b[39m\u001b[39mstate\u001b[39m\u001b[39m'\u001b[39m)\u001b[39m.\u001b[39mstate\u001b[39m.\u001b[39mcount())\n\u001b[0;32m      4\u001b[0m display(data\u001b[39m.\u001b[39mquery(\u001b[39m'\u001b[39m\u001b[39mpledged <= goal and spotlight == True\u001b[39m\u001b[39m'\u001b[39m)\u001b[39m.\u001b[39mgroupby(\u001b[39m'\u001b[39m\u001b[39mstate\u001b[39m\u001b[39m'\u001b[39m)\u001b[39m.\u001b[39mstate\u001b[39m.\u001b[39mcount())\n\u001b[0;32m      5\u001b[0m display(data\u001b[39m.\u001b[39mgroupby(\u001b[39m'\u001b[39m\u001b[39mstate\u001b[39m\u001b[39m'\u001b[39m)\u001b[39m.\u001b[39mstate\u001b[39m.\u001b[39mcount())\n",
      "File \u001b[1;32mc:\\ProgramData\\Anaconda3\\envs\\neuefische_3.9\\lib\\site-packages\\pandas\\core\\frame.py:4060\u001b[0m, in \u001b[0;36mDataFrame.query\u001b[1;34m(self, expr, inplace, **kwargs)\u001b[0m\n\u001b[0;32m   4058\u001b[0m kwargs[\u001b[39m\"\u001b[39m\u001b[39mlevel\u001b[39m\u001b[39m\"\u001b[39m] \u001b[39m=\u001b[39m kwargs\u001b[39m.\u001b[39mpop(\u001b[39m\"\u001b[39m\u001b[39mlevel\u001b[39m\u001b[39m\"\u001b[39m, \u001b[39m0\u001b[39m) \u001b[39m+\u001b[39m \u001b[39m1\u001b[39m\n\u001b[0;32m   4059\u001b[0m kwargs[\u001b[39m\"\u001b[39m\u001b[39mtarget\u001b[39m\u001b[39m\"\u001b[39m] \u001b[39m=\u001b[39m \u001b[39mNone\u001b[39;00m\n\u001b[1;32m-> 4060\u001b[0m res \u001b[39m=\u001b[39m \u001b[39mself\u001b[39m\u001b[39m.\u001b[39meval(expr, \u001b[39m*\u001b[39m\u001b[39m*\u001b[39mkwargs)\n\u001b[0;32m   4062\u001b[0m \u001b[39mtry\u001b[39;00m:\n\u001b[0;32m   4063\u001b[0m     result \u001b[39m=\u001b[39m \u001b[39mself\u001b[39m\u001b[39m.\u001b[39mloc[res]\n",
      "File \u001b[1;32mc:\\ProgramData\\Anaconda3\\envs\\neuefische_3.9\\lib\\site-packages\\pandas\\core\\frame.py:4191\u001b[0m, in \u001b[0;36mDataFrame.eval\u001b[1;34m(self, expr, inplace, **kwargs)\u001b[0m\n\u001b[0;32m   4188\u001b[0m     kwargs[\u001b[39m\"\u001b[39m\u001b[39mtarget\u001b[39m\u001b[39m\"\u001b[39m] \u001b[39m=\u001b[39m \u001b[39mself\u001b[39m\n\u001b[0;32m   4189\u001b[0m kwargs[\u001b[39m\"\u001b[39m\u001b[39mresolvers\u001b[39m\u001b[39m\"\u001b[39m] \u001b[39m=\u001b[39m kwargs\u001b[39m.\u001b[39mget(\u001b[39m\"\u001b[39m\u001b[39mresolvers\u001b[39m\u001b[39m\"\u001b[39m, ()) \u001b[39m+\u001b[39m \u001b[39mtuple\u001b[39m(resolvers)\n\u001b[1;32m-> 4191\u001b[0m \u001b[39mreturn\u001b[39;00m _eval(expr, inplace\u001b[39m=\u001b[39minplace, \u001b[39m*\u001b[39m\u001b[39m*\u001b[39mkwargs)\n",
      "File \u001b[1;32mc:\\ProgramData\\Anaconda3\\envs\\neuefische_3.9\\lib\\site-packages\\pandas\\core\\computation\\eval.py:348\u001b[0m, in \u001b[0;36meval\u001b[1;34m(expr, parser, engine, truediv, local_dict, global_dict, resolvers, level, target, inplace)\u001b[0m\n\u001b[0;32m    339\u001b[0m \u001b[39m# get our (possibly passed-in) scope\u001b[39;00m\n\u001b[0;32m    340\u001b[0m env \u001b[39m=\u001b[39m ensure_scope(\n\u001b[0;32m    341\u001b[0m     level \u001b[39m+\u001b[39m \u001b[39m1\u001b[39m,\n\u001b[0;32m    342\u001b[0m     global_dict\u001b[39m=\u001b[39mglobal_dict,\n\u001b[1;32m   (...)\u001b[0m\n\u001b[0;32m    345\u001b[0m     target\u001b[39m=\u001b[39mtarget,\n\u001b[0;32m    346\u001b[0m )\n\u001b[1;32m--> 348\u001b[0m parsed_expr \u001b[39m=\u001b[39m Expr(expr, engine\u001b[39m=\u001b[39;49mengine, parser\u001b[39m=\u001b[39;49mparser, env\u001b[39m=\u001b[39;49menv)\n\u001b[0;32m    350\u001b[0m \u001b[39m# construct the engine and evaluate the parsed expression\u001b[39;00m\n\u001b[0;32m    351\u001b[0m eng \u001b[39m=\u001b[39m ENGINES[engine]\n",
      "File \u001b[1;32mc:\\ProgramData\\Anaconda3\\envs\\neuefische_3.9\\lib\\site-packages\\pandas\\core\\computation\\expr.py:806\u001b[0m, in \u001b[0;36mExpr.__init__\u001b[1;34m(self, expr, engine, parser, env, level)\u001b[0m\n\u001b[0;32m    804\u001b[0m \u001b[39mself\u001b[39m\u001b[39m.\u001b[39mparser \u001b[39m=\u001b[39m parser\n\u001b[0;32m    805\u001b[0m \u001b[39mself\u001b[39m\u001b[39m.\u001b[39m_visitor \u001b[39m=\u001b[39m PARSERS[parser](\u001b[39mself\u001b[39m\u001b[39m.\u001b[39menv, \u001b[39mself\u001b[39m\u001b[39m.\u001b[39mengine, \u001b[39mself\u001b[39m\u001b[39m.\u001b[39mparser)\n\u001b[1;32m--> 806\u001b[0m \u001b[39mself\u001b[39m\u001b[39m.\u001b[39mterms \u001b[39m=\u001b[39m \u001b[39mself\u001b[39;49m\u001b[39m.\u001b[39;49mparse()\n",
      "File \u001b[1;32mc:\\ProgramData\\Anaconda3\\envs\\neuefische_3.9\\lib\\site-packages\\pandas\\core\\computation\\expr.py:825\u001b[0m, in \u001b[0;36mExpr.parse\u001b[1;34m(self)\u001b[0m\n\u001b[0;32m    821\u001b[0m \u001b[39mdef\u001b[39;00m \u001b[39mparse\u001b[39m(\u001b[39mself\u001b[39m):\n\u001b[0;32m    822\u001b[0m \u001b[39m    \u001b[39m\u001b[39m\"\"\"\u001b[39;00m\n\u001b[0;32m    823\u001b[0m \u001b[39m    Parse an expression.\u001b[39;00m\n\u001b[0;32m    824\u001b[0m \u001b[39m    \"\"\"\u001b[39;00m\n\u001b[1;32m--> 825\u001b[0m     \u001b[39mreturn\u001b[39;00m \u001b[39mself\u001b[39;49m\u001b[39m.\u001b[39;49m_visitor\u001b[39m.\u001b[39;49mvisit(\u001b[39mself\u001b[39;49m\u001b[39m.\u001b[39;49mexpr)\n",
      "File \u001b[1;32mc:\\ProgramData\\Anaconda3\\envs\\neuefische_3.9\\lib\\site-packages\\pandas\\core\\computation\\expr.py:411\u001b[0m, in \u001b[0;36mBaseExprVisitor.visit\u001b[1;34m(self, node, **kwargs)\u001b[0m\n\u001b[0;32m    409\u001b[0m method \u001b[39m=\u001b[39m \u001b[39m\"\u001b[39m\u001b[39mvisit_\u001b[39m\u001b[39m\"\u001b[39m \u001b[39m+\u001b[39m \u001b[39mtype\u001b[39m(node)\u001b[39m.\u001b[39m\u001b[39m__name__\u001b[39m\n\u001b[0;32m    410\u001b[0m visitor \u001b[39m=\u001b[39m \u001b[39mgetattr\u001b[39m(\u001b[39mself\u001b[39m, method)\n\u001b[1;32m--> 411\u001b[0m \u001b[39mreturn\u001b[39;00m visitor(node, \u001b[39m*\u001b[39m\u001b[39m*\u001b[39mkwargs)\n",
      "File \u001b[1;32mc:\\ProgramData\\Anaconda3\\envs\\neuefische_3.9\\lib\\site-packages\\pandas\\core\\computation\\expr.py:417\u001b[0m, in \u001b[0;36mBaseExprVisitor.visit_Module\u001b[1;34m(self, node, **kwargs)\u001b[0m\n\u001b[0;32m    415\u001b[0m     \u001b[39mraise\u001b[39;00m \u001b[39mSyntaxError\u001b[39;00m(\u001b[39m\"\u001b[39m\u001b[39monly a single expression is allowed\u001b[39m\u001b[39m\"\u001b[39m)\n\u001b[0;32m    416\u001b[0m expr \u001b[39m=\u001b[39m node\u001b[39m.\u001b[39mbody[\u001b[39m0\u001b[39m]\n\u001b[1;32m--> 417\u001b[0m \u001b[39mreturn\u001b[39;00m \u001b[39mself\u001b[39m\u001b[39m.\u001b[39mvisit(expr, \u001b[39m*\u001b[39m\u001b[39m*\u001b[39mkwargs)\n",
      "File \u001b[1;32mc:\\ProgramData\\Anaconda3\\envs\\neuefische_3.9\\lib\\site-packages\\pandas\\core\\computation\\expr.py:411\u001b[0m, in \u001b[0;36mBaseExprVisitor.visit\u001b[1;34m(self, node, **kwargs)\u001b[0m\n\u001b[0;32m    409\u001b[0m method \u001b[39m=\u001b[39m \u001b[39m\"\u001b[39m\u001b[39mvisit_\u001b[39m\u001b[39m\"\u001b[39m \u001b[39m+\u001b[39m \u001b[39mtype\u001b[39m(node)\u001b[39m.\u001b[39m\u001b[39m__name__\u001b[39m\n\u001b[0;32m    410\u001b[0m visitor \u001b[39m=\u001b[39m \u001b[39mgetattr\u001b[39m(\u001b[39mself\u001b[39m, method)\n\u001b[1;32m--> 411\u001b[0m \u001b[39mreturn\u001b[39;00m visitor(node, \u001b[39m*\u001b[39m\u001b[39m*\u001b[39mkwargs)\n",
      "File \u001b[1;32mc:\\ProgramData\\Anaconda3\\envs\\neuefische_3.9\\lib\\site-packages\\pandas\\core\\computation\\expr.py:420\u001b[0m, in \u001b[0;36mBaseExprVisitor.visit_Expr\u001b[1;34m(self, node, **kwargs)\u001b[0m\n\u001b[0;32m    419\u001b[0m \u001b[39mdef\u001b[39;00m \u001b[39mvisit_Expr\u001b[39m(\u001b[39mself\u001b[39m, node, \u001b[39m*\u001b[39m\u001b[39m*\u001b[39mkwargs):\n\u001b[1;32m--> 420\u001b[0m     \u001b[39mreturn\u001b[39;00m \u001b[39mself\u001b[39m\u001b[39m.\u001b[39mvisit(node\u001b[39m.\u001b[39mvalue, \u001b[39m*\u001b[39m\u001b[39m*\u001b[39mkwargs)\n",
      "File \u001b[1;32mc:\\ProgramData\\Anaconda3\\envs\\neuefische_3.9\\lib\\site-packages\\pandas\\core\\computation\\expr.py:411\u001b[0m, in \u001b[0;36mBaseExprVisitor.visit\u001b[1;34m(self, node, **kwargs)\u001b[0m\n\u001b[0;32m    409\u001b[0m method \u001b[39m=\u001b[39m \u001b[39m\"\u001b[39m\u001b[39mvisit_\u001b[39m\u001b[39m\"\u001b[39m \u001b[39m+\u001b[39m \u001b[39mtype\u001b[39m(node)\u001b[39m.\u001b[39m\u001b[39m__name__\u001b[39m\n\u001b[0;32m    410\u001b[0m visitor \u001b[39m=\u001b[39m \u001b[39mgetattr\u001b[39m(\u001b[39mself\u001b[39m, method)\n\u001b[1;32m--> 411\u001b[0m \u001b[39mreturn\u001b[39;00m visitor(node, \u001b[39m*\u001b[39m\u001b[39m*\u001b[39mkwargs)\n",
      "File \u001b[1;32mc:\\ProgramData\\Anaconda3\\envs\\neuefische_3.9\\lib\\site-packages\\pandas\\core\\computation\\expr.py:745\u001b[0m, in \u001b[0;36mBaseExprVisitor.visit_BoolOp\u001b[1;34m(self, node, **kwargs)\u001b[0m\n\u001b[0;32m    742\u001b[0m     \u001b[39mreturn\u001b[39;00m \u001b[39mself\u001b[39m\u001b[39m.\u001b[39m_maybe_evaluate_binop(op, node\u001b[39m.\u001b[39mop, lhs, rhs)\n\u001b[0;32m    744\u001b[0m operands \u001b[39m=\u001b[39m node\u001b[39m.\u001b[39mvalues\n\u001b[1;32m--> 745\u001b[0m \u001b[39mreturn\u001b[39;00m reduce(visitor, operands)\n",
      "File \u001b[1;32mc:\\ProgramData\\Anaconda3\\envs\\neuefische_3.9\\lib\\site-packages\\pandas\\core\\computation\\expr.py:738\u001b[0m, in \u001b[0;36mBaseExprVisitor.visit_BoolOp.<locals>.visitor\u001b[1;34m(x, y)\u001b[0m\n\u001b[0;32m    737\u001b[0m \u001b[39mdef\u001b[39;00m \u001b[39mvisitor\u001b[39m(x, y):\n\u001b[1;32m--> 738\u001b[0m     lhs \u001b[39m=\u001b[39m \u001b[39mself\u001b[39;49m\u001b[39m.\u001b[39;49m_try_visit_binop(x)\n\u001b[0;32m    739\u001b[0m     rhs \u001b[39m=\u001b[39m \u001b[39mself\u001b[39m\u001b[39m.\u001b[39m_try_visit_binop(y)\n\u001b[0;32m    741\u001b[0m     op, op_class, lhs, rhs \u001b[39m=\u001b[39m \u001b[39mself\u001b[39m\u001b[39m.\u001b[39m_maybe_transform_eq_ne(node, lhs, rhs)\n",
      "File \u001b[1;32mc:\\ProgramData\\Anaconda3\\envs\\neuefische_3.9\\lib\\site-packages\\pandas\\core\\computation\\expr.py:734\u001b[0m, in \u001b[0;36mBaseExprVisitor._try_visit_binop\u001b[1;34m(self, bop)\u001b[0m\n\u001b[0;32m    732\u001b[0m \u001b[39mif\u001b[39;00m \u001b[39misinstance\u001b[39m(bop, (Op, Term)):\n\u001b[0;32m    733\u001b[0m     \u001b[39mreturn\u001b[39;00m bop\n\u001b[1;32m--> 734\u001b[0m \u001b[39mreturn\u001b[39;00m \u001b[39mself\u001b[39;49m\u001b[39m.\u001b[39;49mvisit(bop)\n",
      "File \u001b[1;32mc:\\ProgramData\\Anaconda3\\envs\\neuefische_3.9\\lib\\site-packages\\pandas\\core\\computation\\expr.py:411\u001b[0m, in \u001b[0;36mBaseExprVisitor.visit\u001b[1;34m(self, node, **kwargs)\u001b[0m\n\u001b[0;32m    409\u001b[0m method \u001b[39m=\u001b[39m \u001b[39m\"\u001b[39m\u001b[39mvisit_\u001b[39m\u001b[39m\"\u001b[39m \u001b[39m+\u001b[39m \u001b[39mtype\u001b[39m(node)\u001b[39m.\u001b[39m\u001b[39m__name__\u001b[39m\n\u001b[0;32m    410\u001b[0m visitor \u001b[39m=\u001b[39m \u001b[39mgetattr\u001b[39m(\u001b[39mself\u001b[39m, method)\n\u001b[1;32m--> 411\u001b[0m \u001b[39mreturn\u001b[39;00m visitor(node, \u001b[39m*\u001b[39m\u001b[39m*\u001b[39mkwargs)\n",
      "File \u001b[1;32mc:\\ProgramData\\Anaconda3\\envs\\neuefische_3.9\\lib\\site-packages\\pandas\\core\\computation\\expr.py:718\u001b[0m, in \u001b[0;36mBaseExprVisitor.visit_Compare\u001b[1;34m(self, node, **kwargs)\u001b[0m\n\u001b[0;32m    716\u001b[0m     op \u001b[39m=\u001b[39m \u001b[39mself\u001b[39m\u001b[39m.\u001b[39mtranslate_In(ops[\u001b[39m0\u001b[39m])\n\u001b[0;32m    717\u001b[0m     binop \u001b[39m=\u001b[39m ast\u001b[39m.\u001b[39mBinOp(op\u001b[39m=\u001b[39mop, left\u001b[39m=\u001b[39mnode\u001b[39m.\u001b[39mleft, right\u001b[39m=\u001b[39mcomps[\u001b[39m0\u001b[39m])\n\u001b[1;32m--> 718\u001b[0m     \u001b[39mreturn\u001b[39;00m \u001b[39mself\u001b[39;49m\u001b[39m.\u001b[39;49mvisit(binop)\n\u001b[0;32m    720\u001b[0m \u001b[39m# recursive case: we have a chained comparison, a CMP b CMP c, etc.\u001b[39;00m\n\u001b[0;32m    721\u001b[0m left \u001b[39m=\u001b[39m node\u001b[39m.\u001b[39mleft\n",
      "File \u001b[1;32mc:\\ProgramData\\Anaconda3\\envs\\neuefische_3.9\\lib\\site-packages\\pandas\\core\\computation\\expr.py:411\u001b[0m, in \u001b[0;36mBaseExprVisitor.visit\u001b[1;34m(self, node, **kwargs)\u001b[0m\n\u001b[0;32m    409\u001b[0m method \u001b[39m=\u001b[39m \u001b[39m\"\u001b[39m\u001b[39mvisit_\u001b[39m\u001b[39m\"\u001b[39m \u001b[39m+\u001b[39m \u001b[39mtype\u001b[39m(node)\u001b[39m.\u001b[39m\u001b[39m__name__\u001b[39m\n\u001b[0;32m    410\u001b[0m visitor \u001b[39m=\u001b[39m \u001b[39mgetattr\u001b[39m(\u001b[39mself\u001b[39m, method)\n\u001b[1;32m--> 411\u001b[0m \u001b[39mreturn\u001b[39;00m visitor(node, \u001b[39m*\u001b[39m\u001b[39m*\u001b[39mkwargs)\n",
      "File \u001b[1;32mc:\\ProgramData\\Anaconda3\\envs\\neuefische_3.9\\lib\\site-packages\\pandas\\core\\computation\\expr.py:532\u001b[0m, in \u001b[0;36mBaseExprVisitor.visit_BinOp\u001b[1;34m(self, node, **kwargs)\u001b[0m\n\u001b[0;32m    531\u001b[0m \u001b[39mdef\u001b[39;00m \u001b[39mvisit_BinOp\u001b[39m(\u001b[39mself\u001b[39m, node, \u001b[39m*\u001b[39m\u001b[39m*\u001b[39mkwargs):\n\u001b[1;32m--> 532\u001b[0m     op, op_class, left, right \u001b[39m=\u001b[39m \u001b[39mself\u001b[39;49m\u001b[39m.\u001b[39;49m_maybe_transform_eq_ne(node)\n\u001b[0;32m    533\u001b[0m     left, right \u001b[39m=\u001b[39m \u001b[39mself\u001b[39m\u001b[39m.\u001b[39m_maybe_downcast_constants(left, right)\n\u001b[0;32m    534\u001b[0m     \u001b[39mreturn\u001b[39;00m \u001b[39mself\u001b[39m\u001b[39m.\u001b[39m_maybe_evaluate_binop(op, op_class, left, right)\n",
      "File \u001b[1;32mc:\\ProgramData\\Anaconda3\\envs\\neuefische_3.9\\lib\\site-packages\\pandas\\core\\computation\\expr.py:452\u001b[0m, in \u001b[0;36mBaseExprVisitor._maybe_transform_eq_ne\u001b[1;34m(self, node, left, right)\u001b[0m\n\u001b[0;32m    450\u001b[0m \u001b[39mdef\u001b[39;00m \u001b[39m_maybe_transform_eq_ne\u001b[39m(\u001b[39mself\u001b[39m, node, left\u001b[39m=\u001b[39m\u001b[39mNone\u001b[39;00m, right\u001b[39m=\u001b[39m\u001b[39mNone\u001b[39;00m):\n\u001b[0;32m    451\u001b[0m     \u001b[39mif\u001b[39;00m left \u001b[39mis\u001b[39;00m \u001b[39mNone\u001b[39;00m:\n\u001b[1;32m--> 452\u001b[0m         left \u001b[39m=\u001b[39m \u001b[39mself\u001b[39;49m\u001b[39m.\u001b[39;49mvisit(node\u001b[39m.\u001b[39;49mleft, side\u001b[39m=\u001b[39;49m\u001b[39m\"\u001b[39;49m\u001b[39mleft\u001b[39;49m\u001b[39m\"\u001b[39;49m)\n\u001b[0;32m    453\u001b[0m     \u001b[39mif\u001b[39;00m right \u001b[39mis\u001b[39;00m \u001b[39mNone\u001b[39;00m:\n\u001b[0;32m    454\u001b[0m         right \u001b[39m=\u001b[39m \u001b[39mself\u001b[39m\u001b[39m.\u001b[39mvisit(node\u001b[39m.\u001b[39mright, side\u001b[39m=\u001b[39m\u001b[39m\"\u001b[39m\u001b[39mright\u001b[39m\u001b[39m\"\u001b[39m)\n",
      "File \u001b[1;32mc:\\ProgramData\\Anaconda3\\envs\\neuefische_3.9\\lib\\site-packages\\pandas\\core\\computation\\expr.py:411\u001b[0m, in \u001b[0;36mBaseExprVisitor.visit\u001b[1;34m(self, node, **kwargs)\u001b[0m\n\u001b[0;32m    409\u001b[0m method \u001b[39m=\u001b[39m \u001b[39m\"\u001b[39m\u001b[39mvisit_\u001b[39m\u001b[39m\"\u001b[39m \u001b[39m+\u001b[39m \u001b[39mtype\u001b[39m(node)\u001b[39m.\u001b[39m\u001b[39m__name__\u001b[39m\n\u001b[0;32m    410\u001b[0m visitor \u001b[39m=\u001b[39m \u001b[39mgetattr\u001b[39m(\u001b[39mself\u001b[39m, method)\n\u001b[1;32m--> 411\u001b[0m \u001b[39mreturn\u001b[39;00m visitor(node, \u001b[39m*\u001b[39m\u001b[39m*\u001b[39mkwargs)\n",
      "File \u001b[1;32mc:\\ProgramData\\Anaconda3\\envs\\neuefische_3.9\\lib\\site-packages\\pandas\\core\\computation\\expr.py:545\u001b[0m, in \u001b[0;36mBaseExprVisitor.visit_Name\u001b[1;34m(self, node, **kwargs)\u001b[0m\n\u001b[0;32m    544\u001b[0m \u001b[39mdef\u001b[39;00m \u001b[39mvisit_Name\u001b[39m(\u001b[39mself\u001b[39m, node, \u001b[39m*\u001b[39m\u001b[39m*\u001b[39mkwargs):\n\u001b[1;32m--> 545\u001b[0m     \u001b[39mreturn\u001b[39;00m \u001b[39mself\u001b[39m\u001b[39m.\u001b[39mterm_type(node\u001b[39m.\u001b[39mid, \u001b[39mself\u001b[39m\u001b[39m.\u001b[39menv, \u001b[39m*\u001b[39m\u001b[39m*\u001b[39mkwargs)\n",
      "File \u001b[1;32mc:\\ProgramData\\Anaconda3\\envs\\neuefische_3.9\\lib\\site-packages\\pandas\\core\\computation\\ops.py:98\u001b[0m, in \u001b[0;36mTerm.__init__\u001b[1;34m(self, name, env, side, encoding)\u001b[0m\n\u001b[0;32m     96\u001b[0m tname \u001b[39m=\u001b[39m \u001b[39mstr\u001b[39m(name)\n\u001b[0;32m     97\u001b[0m \u001b[39mself\u001b[39m\u001b[39m.\u001b[39mis_local \u001b[39m=\u001b[39m tname\u001b[39m.\u001b[39mstartswith(LOCAL_TAG) \u001b[39mor\u001b[39;00m tname \u001b[39min\u001b[39;00m DEFAULT_GLOBALS\n\u001b[1;32m---> 98\u001b[0m \u001b[39mself\u001b[39m\u001b[39m.\u001b[39m_value \u001b[39m=\u001b[39m \u001b[39mself\u001b[39;49m\u001b[39m.\u001b[39;49m_resolve_name()\n\u001b[0;32m     99\u001b[0m \u001b[39mself\u001b[39m\u001b[39m.\u001b[39mencoding \u001b[39m=\u001b[39m encoding\n",
      "File \u001b[1;32mc:\\ProgramData\\Anaconda3\\envs\\neuefische_3.9\\lib\\site-packages\\pandas\\core\\computation\\ops.py:115\u001b[0m, in \u001b[0;36mTerm._resolve_name\u001b[1;34m(self)\u001b[0m\n\u001b[0;32m    114\u001b[0m \u001b[39mdef\u001b[39;00m \u001b[39m_resolve_name\u001b[39m(\u001b[39mself\u001b[39m):\n\u001b[1;32m--> 115\u001b[0m     res \u001b[39m=\u001b[39m \u001b[39mself\u001b[39;49m\u001b[39m.\u001b[39;49menv\u001b[39m.\u001b[39;49mresolve(\u001b[39mself\u001b[39;49m\u001b[39m.\u001b[39;49mlocal_name, is_local\u001b[39m=\u001b[39;49m\u001b[39mself\u001b[39;49m\u001b[39m.\u001b[39;49mis_local)\n\u001b[0;32m    116\u001b[0m     \u001b[39mself\u001b[39m\u001b[39m.\u001b[39mupdate(res)\n\u001b[0;32m    118\u001b[0m     \u001b[39mif\u001b[39;00m \u001b[39mhasattr\u001b[39m(res, \u001b[39m\"\u001b[39m\u001b[39mndim\u001b[39m\u001b[39m\"\u001b[39m) \u001b[39mand\u001b[39;00m res\u001b[39m.\u001b[39mndim \u001b[39m>\u001b[39m \u001b[39m2\u001b[39m:\n",
      "File \u001b[1;32mc:\\ProgramData\\Anaconda3\\envs\\neuefische_3.9\\lib\\site-packages\\pandas\\core\\computation\\scope.py:216\u001b[0m, in \u001b[0;36mScope.resolve\u001b[1;34m(self, key, is_local)\u001b[0m\n\u001b[0;32m    212\u001b[0m \u001b[39mexcept\u001b[39;00m \u001b[39mKeyError\u001b[39;00m \u001b[39mas\u001b[39;00m err:\n\u001b[0;32m    213\u001b[0m     \u001b[39m# runtime import because ops imports from scope\u001b[39;00m\n\u001b[0;32m    214\u001b[0m     \u001b[39mfrom\u001b[39;00m \u001b[39mpandas\u001b[39;00m\u001b[39m.\u001b[39;00m\u001b[39mcore\u001b[39;00m\u001b[39m.\u001b[39;00m\u001b[39mcomputation\u001b[39;00m\u001b[39m.\u001b[39;00m\u001b[39mops\u001b[39;00m \u001b[39mimport\u001b[39;00m UndefinedVariableError\n\u001b[1;32m--> 216\u001b[0m     \u001b[39mraise\u001b[39;00m UndefinedVariableError(key, is_local) \u001b[39mfrom\u001b[39;00m \u001b[39merr\u001b[39;00m\n",
      "\u001b[1;31mUndefinedVariableError\u001b[0m: name 'pledged' is not defined"
     ]
    }
   ],
   "source": [
    "# KEEP ONLY SUCCESSFUL AND FAILED (otherwise comparing apples and pears (:  )\n",
    "\n",
    "display(data.query('pledged >= goal and state == False').groupby('state').state.count())\n",
    "display(data.query('pledged <= goal and spotlight == True').groupby('state').state.count())\n",
    "display(data.groupby('state').state.count())\n",
    "display(data.groupby('state').state.count())"
   ]
  },
  {
   "cell_type": "code",
   "execution_count": null,
   "metadata": {},
   "outputs": [
    {
     "data": {
      "text/plain": [
       "<AxesSubplot:xlabel='state', ylabel='count'>"
      ]
     },
     "execution_count": 14,
     "metadata": {},
     "output_type": "execute_result"
    },
    {
     "data": {
      "image/png": "[encoded data removed]",
      "text/plain": [
       "<Figure size 640x480 with 1 Axes>"
      ]
     },
     "metadata": {},
     "output_type": "display_data"
    }
   ],
   "source": [
    "sns.countplot(data=data, x='state', hue='spotlight')"
   ]
  },
  {
   "cell_type": "code",
   "execution_count": null,
   "metadata": {},
   "outputs": [
    {
     "data": {
      "text/plain": [
       "7311"
      ]
     },
     "execution_count": 11,
     "metadata": {},
     "output_type": "execute_result"
    }
   ],
   "source": [
    "data.query('state==\"live\"')['state'].count()"
   ]
  }
 ],
 "metadata": {
  "kernelspec": {
   "display_name": "neuefische_3.9",
   "language": "python",
   "name": "python3"
  },
  "language_info": {
   "codemirror_mode": {
    "name": "ipython",
    "version": 3
   },
   "file_extension": ".py",
   "mimetype": "text/x-python",
   "name": "python",
   "nbconvert_exporter": "python",
   "pygments_lexer": "ipython3",
   "version": "3.9.16"
  },
  "orig_nbformat": 4,
  "vscode": {
   "interpreter": {
    "hash": "309606f209db4fc5c1154461673897e078aa13a2c12d82a588e6345b008e720c"
   }
  }
 },
 "nbformat": 4,
 "nbformat_minor": 2
}
