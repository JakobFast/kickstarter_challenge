{
 "cells": [
  {
   "cell_type": "code",
   "execution_count": 4,
   "metadata": {},
   "outputs": [],
   "source": [
    "import os\n",
    "\n",
    "import pandas as pd\n",
    "import numpy as np\n",
    "import datetime as dt\n",
    "\n",
    "import seaborn as sns\n",
    "import matplotlib.pyplot as plt\n",
    "\n",
    "import src.visualization as vs\n",
    "import src.json_cleaning as jc\n"
   ]
  },
  {
   "cell_type": "code",
   "execution_count": 5,
   "metadata": {},
   "outputs": [],
   "source": [
    "data = pd.read_csv('data/raw/kickstarter.csv')\n",
    "\n",
    "def drop_duplicates(df: pd.DataFrame) -> pd.DataFrame:\n",
    "    \"\"\"Drop duplicate rows, and rows that are duplicated and rows that only differ in usd_type\"\"\"\n",
    "\n",
    "    df = df.query('~(id.duplicated() & usd_type == \"domestic\")')\n",
    "    df = df.drop_duplicates('id', keep='first')\n",
    "    return df\n",
    "\n",
    "data = drop_duplicates(data)"
   ]
  },
  {
   "cell_type": "code",
   "execution_count": 3,
   "metadata": {},
   "outputs": [
    {
     "ename": "NameError",
     "evalue": "name 'data' is not defined",
     "output_type": "error",
     "traceback": [
      "\u001b[0;31m---------------------------------------------------------------------------\u001b[0m",
      "\u001b[0;31mNameError\u001b[0m                                 Traceback (most recent call last)",
      "\u001b[0;32m/var/folders/16/z7xzwt511fd49gfd84mm0ddh0000gn/T/ipykernel_59937/2063247902.py\u001b[0m in \u001b[0;36m<cell line: 8>\u001b[0;34m()\u001b[0m\n\u001b[1;32m      6\u001b[0m     \u001b[0;32mreturn\u001b[0m \u001b[0mdf\u001b[0m\u001b[0;34m\u001b[0m\u001b[0;34m\u001b[0m\u001b[0m\n\u001b[1;32m      7\u001b[0m \u001b[0;34m\u001b[0m\u001b[0m\n\u001b[0;32m----> 8\u001b[0;31m \u001b[0mdata\u001b[0m \u001b[0;34m=\u001b[0m \u001b[0mgoal_convert\u001b[0m\u001b[0;34m(\u001b[0m\u001b[0mdata\u001b[0m\u001b[0;34m)\u001b[0m\u001b[0;34m\u001b[0m\u001b[0;34m\u001b[0m\u001b[0m\n\u001b[0m\u001b[1;32m      9\u001b[0m \u001b[0;34m\u001b[0m\u001b[0m\n\u001b[1;32m     10\u001b[0m \u001b[0mdata\u001b[0m\u001b[0;34m.\u001b[0m\u001b[0mshape\u001b[0m\u001b[0;34m\u001b[0m\u001b[0;34m\u001b[0m\u001b[0m\n",
      "\u001b[0;31mNameError\u001b[0m: name 'data' is not defined"
     ]
    }
   ],
   "source": [
    "# convert goal with static_usd_rate, drop both afterwards and keep converted goal\n",
    "def goal_convert(df):\n",
    "    df['converted_goal'] = (df['goal'].mul(df['static_usd_rate'])).round(2)\n",
    "    df['usd_pledged'] = df['usd_pledged'].round(2)\n",
    "    df.drop(['goal','static_usd_rate'], axis =1, inplace = True)\n",
    "    return df\n",
    "\n",
    "data = goal_convert(data)\n",
    "\n",
    "data.shape"
   ]
  },
  {
   "cell_type": "code",
   "execution_count": null,
   "metadata": {},
   "outputs": [],
   "source": [
    "# 'blurb' and 'name' to len()\n",
    "def string_length(df):\n",
    "    df['len_blurb'] = df['blurb'].str.split().str.len()\n",
    "    df['len_name'] = df['name'].str.split().str.len()\n",
    "    df.drop(['blurb', 'name'], axis = 1, inplace = True)\n",
    "    return df\n",
    "\n",
    "data = string_length(data)\n",
    "\n",
    "data.shape"
   ]
  },
  {
   "cell_type": "code",
   "execution_count": null,
   "metadata": {},
   "outputs": [],
   "source": [
    "# created and launch time windows\n",
    "date_columns = ['created_at','deadline','launched_at']\n",
    "\n",
    "# for column in date_columns:\n",
    "#     data[column] = data[column].apply(dt.datetime.fromtimestamp)\n",
    "\n",
    "launch_to_deadline = (data['deadline'] - data['launched_at'])\n",
    "creation_to_launch = (data['launched_at'] - data['created_at'])\n",
    "\n",
    "data['launch_to_deadline'] = launch_to_deadline\n",
    "data['creation_to_launch'] = creation_to_launch\n",
    "\n",
    "data['month'] = pd.to_datetime(data['launched_at'], unit='s').dt.month_name()\n",
    "data['weekday'] = pd.to_datetime(data['launched_at'], unit='s').dt.day_name()\n",
    "data['day_hour'] = pd.to_datetime(data['launched_at'], unit='s').dt.hour\n",
    "\n",
    "data.drop(date_columns, axis=1, inplace=True)\n",
    "\n",
    "# launch_to_deadline_days = launch_to_deadline.dt.days\n",
    "# launch_to_deadline_minutes = launch_to_deadline.dt.seconds // 60\n",
    "\n",
    "# creation_to_launch_days = creation_to_launch.dt.days\n",
    "# creation_to_launch_minutes = creation_to_launch.dt.seconds // 60\n",
    "\n",
    "# time_df = pd.concat([launch_to_deadline_days, launch_to_deadline_minutes,\n",
    "#                      creation_to_launch_days, creation_to_launch_minutes],\n",
    "#                     axis=1,\n",
    "#                     keys = ['launch_to_deadline_days', 'launch_to_deadline_minutes',\n",
    "#                             'creation_to_launch_days', 'creation_to_launch_minutes'])"
   ]
  },
  {
   "cell_type": "code",
   "execution_count": null,
   "metadata": {},
   "outputs": [],
   "source": [
    "# convert category vars to categories\n",
    "col = ['category']\n",
    "data = jc.json_cleaning(data, col)\n",
    "#data.drop(['category_#slug','category_id'], axis=1, inplace=True)\n",
    "\n",
    "data['parent_category'] = data['category_slug'].apply(lambda x: x.split('/')[0])\n",
    "data.head()"
   ]
  },
  {
   "cell_type": "code",
   "execution_count": null,
   "metadata": {},
   "outputs": [],
   "source": [
    "# drop everything that isn't successful or failed\n",
    "data = data.query('state == \"successful\" | state == \"failed\" ')\n",
    "data.state = data.state.apply(lambda x: 0 if 'failed' in x else 1)"
   ]
  },
  {
   "cell_type": "code",
   "execution_count": null,
   "metadata": {},
   "outputs": [],
   "source": [
    "data = data.query('~(id.duplicated() & usd_type == \"domestic\")')\n",
    "data = data.drop_duplicates('id', keep='first')\n",
    "data"
   ]
  },
  {
   "cell_type": "code",
   "execution_count": null,
   "metadata": {},
   "outputs": [],
   "source": [
    "def drop_duplicates(dataframe):\n",
    "    # Identify the duplicated rows based on the \"id\" column\n",
    "    duplicate_mask = dataframe.duplicated('id').copy()\n",
    "\n",
    "    # Select the rows that are not duplicates and do not have \"domestic\" as the value in the \"usd_type\" column\n",
    "    dataframe = dataframe[~((duplicate_mask) & (dataframe['usd_type'] == 'domestic'))]\n",
    "    \n",
    "    # Drop the rows that are duplicates based on the \"id\" column, keeping only the first occurrence of each group\n",
    "    dataframe.drop_duplicates('id', keep='first', inplace=True)\n",
    "\n",
    "    # Return the resulting DataFrame\n",
    "    return dataframe\n",
    "\n",
    "data = drop_duplicates(data)"
   ]
  },
  {
   "cell_type": "code",
   "execution_count": null,
   "metadata": {},
   "outputs": [],
   "source": [
    "data"
   ]
  },
  {
   "cell_type": "code",
   "execution_count": null,
   "metadata": {},
   "outputs": [],
   "source": [
    "drop_these = [\n",
    "    'converted_pledged_amount',\n",
    "    'currency',\n",
    "    'currency_symbol',\n",
    "    'currency_trailing_code',\n",
    "    'current_currency',\n",
    "    'disable_communication',\n",
    "    'friends',\n",
    "    'fx_rate',\n",
    "    'id',\n",
    "    'is_backing',\n",
    "    'is_starrable',\n",
    "    'is_starred',\n",
    "    'permissions',\n",
    "    'pledged',\n",
    "    'slug',\n",
    "    'source_url',\n",
    "    'spotlight',\n",
    "    'state_changed_at',\n",
    "    'urls',\n",
    "    'category_slug'\n",
    "    ]\n",
    "\n",
    "drop_these_too = [\n",
    "    'creator',\n",
    "    'location',\n",
    "    'photo',\n",
    "    'profile',\n",
    "]\n",
    "\n",
    "data.drop(drop_these, axis=1, inplace=True)\n",
    "data.drop(drop_these_too, axis=1, inplace=True)"
   ]
  },
  {
   "cell_type": "code",
   "execution_count": null,
   "metadata": {},
   "outputs": [],
   "source": [
    "vs.nice_summary(data)\n",
    "\n",
    "# sns.histplot(data=time_df, x='launch_to_deadline')\n",
    "\n",
    "# it looks like projects can be created but not immediately launched\n",
    "# once a project is launched there is a maximum funding time of 93 days (3 months)\n",
    "\n",
    "# when do people launch their projects?\n",
    "# when are they more likely to postpone the launch?"
   ]
  },
  {
   "cell_type": "code",
   "execution_count": null,
   "metadata": {},
   "outputs": [],
   "source": [
    "data.to_csv(os.path.join('data/processed/', 'kickstarter_clean.csv'), index=False)"
   ]
  },
  {
   "cell_type": "code",
   "execution_count": null,
   "metadata": {},
   "outputs": [],
   "source": [
    "sns.countplot(data=data, x='state', hue='usd_type')"
   ]
  },
  {
   "cell_type": "code",
   "execution_count": null,
   "metadata": {},
   "outputs": [],
   "source": []
  },
  {
   "cell_type": "code",
   "execution_count": null,
   "metadata": {},
   "outputs": [],
   "source": [
    "plt.figure(figsize=(20, 30))\n",
    "plt.subplots_adjust(hspace=0.5)\n",
    "i = 1;\n",
    "for name in time_df.columns.tolist():\n",
    "    plt.subplot(5,2,i)\n",
    "    sns.boxplot(data=time_df, x=name)\n",
    "    i = i + 1"
   ]
  },
  {
   "cell_type": "code",
   "execution_count": null,
   "metadata": {},
   "outputs": [],
   "source": [
    "# KEEP ONLY SUCCESSFUL AND FAILED (otherwise comparing apples and pears (:  )\n",
    "\n",
    "display(data.query('pledged >= goal and state == False').groupby('state').state.count())\n",
    "display(data.query('pledged <= goal and spotlight == True').groupby('state').state.count())\n",
    "display(data.groupby('state').state.count())\n",
    "display(data.groupby('state').state.count())"
   ]
  },
  {
   "cell_type": "code",
   "execution_count": null,
   "metadata": {},
   "outputs": [],
   "source": [
    "sns.countplot(data=data, x='state', hue='spotlight')"
   ]
  },
  {
   "cell_type": "code",
   "execution_count": null,
   "metadata": {},
   "outputs": [],
   "source": [
    "data.query('state==\"live\"')['state'].count()"
   ]
  }
 ],
 "metadata": {
  "kernelspec": {
   "display_name": "neuefische_3.9",
   "language": "python",
   "name": "python3"
  },
  "language_info": {
   "codemirror_mode": {
    "name": "ipython",
    "version": 3
   },
   "file_extension": ".py",
   "mimetype": "text/x-python",
   "name": "python",
   "nbconvert_exporter": "python",
   "pygments_lexer": "ipython3",
   "version": "3.9.8"
  },
  "orig_nbformat": 4,
  "vscode": {
   "interpreter": {
    "hash": "309606f209db4fc5c1154461673897e078aa13a2c12d82a588e6345b008e720c"
   }
  }
 },
 "nbformat": 4,
 "nbformat_minor": 2
}
