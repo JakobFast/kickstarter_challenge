{
 "cells": [
  {
   "attachments": {},
   "cell_type": "markdown",
   "metadata": {},
   "source": [
    "## Error Analysis: what are our false predictions?\n",
    "\n",
    "- how good is our model with staff pick\n",
    "- how good is our model without the staff pick? (drop staff pick)\n",
    "- how good is our model against the staff pick? (predict only staff picked rows)\n",
    "- how good is out model on data the staff didn't pick"
   ]
  },
  {
   "cell_type": "code",

   "execution_count": null,

   "metadata": {},
   "outputs": [],
   "source": [
    "import pandas as pd\n",
    "import numpy as np\n",
    "import matplotlib.pyplot as plt\n",
    "import seaborn as sns\n",
    "import time\n",
    "\n",
    "import os\n",
    "\n",
    "import src.visualization as vs\n",
    "import src.process as process\n",
    "import models.lib as modlib\n",
    "\n",
    "from sklearn.model_selection import train_test_split, cross_val_predict, cross_val_score, cross_validate, KFold\n",
    "from sklearn.model_selection import StratifiedKFold, GridSearchCV, RandomizedSearchCV\n",
    "from sklearn.metrics import make_scorer, accuracy_score, fbeta_score, recall_score, precision_score\n",
    "from sklearn.metrics import classification_report, roc_curve, confusion_matrix\n",
    "\n",
    "# models\n",
    "from xgboost import XGBClassifier\n",
    "from sklearn.ensemble import RandomForestClassifier\n",
    "\n",
    "# ignore all warnings\n",
    "import warnings\n",
    "warnings.filterwarnings('ignore')\n",
    "\n",
    "from xgboost import XGBClassifier\n",
    "\n",
    "RSEED = 42"
   ]
  },
  {
   "cell_type": "code",

   "execution_count": null,

   "metadata": {},
   "outputs": [],
   "source": [
    "data = pd.read_csv('data/processed/kickstarter_clean.csv')\n",
    "\n",
    "\n",
    "# Drop Staff Pick\n",
    "\n",
    "data['day_hour_launch'] = data['day_hour_launch'].astype(str)\n",
    "data['day_hour_deadline'] = data['day_hour_deadline'].astype(str)\n",
    "data = data.drop(['staff_pick','usd_pledged','pledge_per_backer'], axis=1)\n",
    "\n",
    "\n",
    "y = data['state']\n",
    "X = data.drop('state', axis=1)\n",
    "\n",
    "X_train_og, X_test_og, y_train_og, y_test_og = train_test_split(X,y, stratify = y, test_size = 0.2, random_state = RSEED)"
   ]
  },
  {
   "attachments": {},
   "cell_type": "markdown",
   "metadata": {},
   "source": [
    "## Include Staff Pick"
   ]
  },
  {
   "cell_type": "code",

   "execution_count": null,
   "metadata": {},
   "outputs": [],

   "source": [
    "data = pd.read_csv('data/processed/kickstarter_clean.csv')\n",
    "\n",
    "\n",
    "# Include staff pick\n",
    "\n",
    "data['day_hour_launch'] = data['day_hour_launch'].astype(str)\n",
    "data['day_hour_deadline'] = data['day_hour_deadline'].astype(str)\n",
    "data = data.drop(['usd_pledged','pledge_per_backer'], axis=1)\n",
    "\n",
    "y = data['state']\n",
    "X = data.drop('state', axis=1)\n",
    "\n",
    "X_train, X_test, y_train, y_test = train_test_split(X,y, stratify = y, test_size = 0.2, random_state = RSEED)\n",
    "\n",
    "target = 'state'\n",
    "num_features, cat_features = process.num_cat_features(data, target=target)\n",
    "models = {'XGB':  XGBClassifier(seed=RSEED)}\n",
    "\n",
    "preprocessor = process.create_preprocessor(num_features, cat_features)\n",
    "scaled_models = process.model_process_pipeline(models, preprocessor, prefix='scaled')\n",
    "\n",
    "predictes_y_test_dict, _ = process.model_test_predict(X_train, X_test, y_train, scaled_models)\n",
    "display(vs.nice_scores(y_test, predictes_y_test_dict))\n",
    "\n",
    "fig, ax = plt.subplots(figsize=(4,4))\n",
    "sns.heatmap(confusion_matrix(y_test, predictes_y_test_dict['scaledXGB']), fmt='g', annot=True, cmap='PuBuGn', cbar=False);"
   ]
  },
  {
   "attachments": {},
   "cell_type": "markdown",
   "metadata": {},
   "source": [
    "## Drop Staff Pick"
   ]
  },
  {
   "cell_type": "code",

   "execution_count": null,
   "metadata": {},
   "outputs": [],

   "source": [
    "data = pd.read_csv('data/processed/kickstarter_clean.csv')\n",
    "\n",
    "\n",
    "# Include staff pick\n",
    "\n",
    "data['day_hour_launch'] = data['day_hour_launch'].astype(str)\n",
    "data['day_hour_deadline'] = data['day_hour_deadline'].astype(str)\n",
    "data = data.drop(['staff_pick','usd_pledged','pledge_per_backer'], axis=1)\n",
    "\n",
    "y = data['state']\n",
    "X = data.drop('state', axis=1)\n",
    "\n",
    "X_train, X_test, y_train, y_test = train_test_split(X,y, stratify = y, test_size = 0.2, random_state = RSEED)\n",
    "\n",
    "target = 'state'\n",
    "num_features, cat_features = process.num_cat_features(data, target=target)\n",
    "models = {'XGB':  XGBClassifier(seed=RSEED)}\n",
    "\n",
    "preprocessor = process.create_preprocessor(num_features, cat_features)\n",
    "scaled_models = process.model_process_pipeline(models, preprocessor, prefix='scaled')\n",
    "\n",
    "predictes_y_test_dict, _ = process.model_test_predict(X_train, X_test, y_train, scaled_models)\n",
    "display(vs.nice_scores(y_test, predictes_y_test_dict))\n",
    "\n",
    "fig, ax = plt.subplots(figsize=(4,4))\n",
    "sns.heatmap(confusion_matrix(y_test, predictes_y_test_dict['scaledXGB']), fmt='g', annot=True, cmap='PuBuGn', cbar=False);"
   ]
  },
  {
   "cell_type": "code",

   "execution_count": null,
   "metadata": {},
   "outputs": [],

   "source": [
    "og_predictions = {}\n",
    "scaled_models['scaledXGB'].fit(X_train, y_train)\n",
    "og_predictions['scaledXGB'] = scaled_models['scaledXGB'].predict(X_test_og)\n",
    "\n",
    "display(vs.nice_scores(y_test_og, og_predictions))\n",
    "\n",
    "fig, ax = plt.subplots(figsize=(4,4))\n",
    "sns.heatmap(confusion_matrix(y_test_og, og_predictions['scaledXGB']), fmt='g', annot=True, cmap='PuBuGn', cbar=False);"
   ]
  },
  {
   "cell_type": "code",

   "execution_count": null,
   "metadata": {},
   "outputs": [],

   "source": [
    "data_with_predictions = pd.concat([X_test.reset_index(drop=True), y_test.reset_index(drop=True), pd.Series(predictes_y_test_dict['scaledXGB'], name='predictions').reset_index(drop=True)], axis=1)\n",
    "\n",
    "prediction_errors = data_with_predictions.query('state != predictions')\n",
    "prediction_errors.to_csv(os.path.join('data/processed/', 'kickstarter_errors.csv'), index=False)\n",
    "prediction_errors"
   ]
  },
  {
   "cell_type": "code",
   "execution_count": null,
   "metadata": {},
   "outputs": [],
   "source": [
    "j=len(X_test.columns)\n",
    "fig, axs = plt.subplots(ncols=2,nrows=j,figsize=(16, 4)) \n",
    "for k, column in enumerate(X_test.columns):\n",
    "    \n",
    "\n",
    "    sns.countplot(data=prediction_errors, x=column, ax=axs.flat[k], hue='state')\n",
    "    sns.countplot(data=X_test, x=column, ax=axs.flat[k+1], hue=y_test)"
   ]
  },
  {
   "cell_type": "code",

   "execution_count": null,
   "metadata": {},
   "outputs": [],
   "source": [
    "len(X_test.columns)"
   ]
  },
  {
   "cell_type": "code",
   "execution_count": null,
   "metadata": {},
   "outputs": [],

   "source": [
    "data = pd.read_csv('data/processed/kickstarter_clean.csv')\n",
    "\n",
    "\n",
    "# Include staff pick\n",
    "\n",
    "data['day_hour_launch'] = data['day_hour_launch'].astype(str)\n",
    "data['day_hour_deadline'] = data['day_hour_deadline'].astype(str)\n",
    "data = data.drop(['usd_pledged','pledge_per_backer'], axis=1)\n",
    "\n",
    "\n",
    "# Drop all Rows where staff pick == False, then drop staff pick\n",
    "\n",
    "data = data.drop(data[data['staff_pick'] == False].index)\n",
    "data = data.drop(['staff_pick'], axis=1)\n",
    "\n",
    "y = data['state']\n",
    "X = data.drop('state', axis=1)\n",
    "\n",
    "X_train, X_test, y_train, y_test = train_test_split(X,y, stratify = y, test_size = 0.2, random_state = RSEED)\n",
    "\n",
    "\n",
    "target = 'state'\n",
    "num_features, cat_features = process.num_cat_features(data, target=target)\n",
    "models = {'XGB':  XGBClassifier(seed=RSEED)}\n",
    "\n",
    "\n",
    "preprocessor = process.create_preprocessor(num_features, cat_features)\n",
    "scaled_models = process.model_process_pipeline(models, preprocessor, prefix='scaled')\n",
    "\n",
    "\n",
    "predictes_y_test_dict, _ = process.model_test_predict(X_train, X_test, y_train, scaled_models)\n",
    "display(vs.nice_scores(y_test, predictes_y_test_dict))\n",
    "\n",
    "fig, ax = plt.subplots(figsize=(4,4))\n",
    "sns.heatmap(confusion_matrix(y_test, predictes_y_test_dict['scaledXGB']), fmt='g', annot=True, cmap='PuBuGn', cbar=False);"
   ]
  },
  {
   "cell_type": "code",
   "execution_count": null,
   "metadata": {},
   "outputs": [],
   "source": [
    "from imblearn.over_sampling import SMOTE\n",
    "\n",
    "# Choose an oversampling method\n",
    "oversampler = SMOTE(random_state=RSEED)\n",
    "\n",
    "# Apply oversampling to the training set\n",
    "X_train_oversampled, y_train_oversampled = oversampler.fit_resample(X_train, y_train)"
   ]
  },
  {
   "cell_type": "code",

   "execution_count": null,
   "metadata": {},
   "outputs": [],

   "source": [
    "og_predictions = {}\n",
    "scaled_models['scaledXGB'].fit(X_train, y_train)\n",
    "og_predictions['scaledXGB'] = scaled_models['scaledXGB'].predict(X_test_og)\n",
    "\n",
    "display(vs.nice_scores(y_test_og, og_predictions))\n",
    "\n",
    "fig, ax = plt.subplots(figsize=(4,4))\n",
    "sns.heatmap(confusion_matrix(y_test_og, og_predictions['scaledXGB']), fmt='g', annot=True, cmap='PuBuGn', cbar=False);"
   ]
  },
  {
   "attachments": {},
   "cell_type": "markdown",
   "metadata": {},
   "source": [
    "## Only non-Staff Picked Data"
   ]
  },
  {
   "cell_type": "code",

   "execution_count": null,
   "metadata": {},
   "outputs": [],

   "source": [
    "data = pd.read_csv('data/processed/kickstarter_clean.csv')\n",
    "\n",
    "\n",
    "# Include staff pick\n",
    "\n",
    "data['day_hour_launch'] = data['day_hour_launch'].astype(str)\n",
    "data['day_hour_deadline'] = data['day_hour_deadline'].astype(str)\n",
    "data = data.drop(['usd_pledged','pledge_per_backer'], axis=1)\n",
    "\n",
    "\n",
    "# Drop all Rows where staff pick == True\n",
    "\n",
    "data = data.drop(data[data['staff_pick'] == True].index)\n",
    "data = data.drop(['staff_pick'], axis=1)\n",
    "\n",
    "y = data['state']\n",
    "X = data.drop('state', axis=1)\n",
    "\n",
    "X_train, X_test, y_train, y_test = train_test_split(X,y, stratify = y, test_size = 0.2, random_state = RSEED)\n",
    "\n",
    "\n",
    "target = 'state'\n",
    "num_features, cat_features = process.num_cat_features(data, target=target)\n",
    "models = {'XGB':  XGBClassifier(seed=RSEED)}\n",
    "\n",
    "\n",
    "preprocessor = process.create_preprocessor(num_features, cat_features)\n",
    "scaled_models = process.model_process_pipeline(models, preprocessor, prefix='scaled')\n",
    "\n",
    "\n",
    "predictes_y_test_dict, _ = process.model_test_predict(X_train, X_test, y_train, scaled_models)\n",
    "display(vs.nice_scores(y_test, predictes_y_test_dict))\n",
    "\n",
    "fig, ax = plt.subplots(figsize=(4,4))\n",
    "sns.heatmap(confusion_matrix(y_test, predictes_y_test_dict['scaledXGB']), fmt='g', annot=True, cmap='PuBuGn', cbar=False);"
   ]
  },
  {
   "cell_type": "code",

   "execution_count": null,
   "metadata": {},
   "outputs": [],

   "source": [
    "og_predictions = {}\n",
    "scaled_models['scaledXGB'].fit(X_train, y_train)\n",
    "og_predictions['scaledXGB'] = scaled_models['scaledXGB'].predict(X_test_og)\n",
    "\n",
    "display(vs.nice_scores(y_test_og, og_predictions))\n",
    "\n",
    "fig, ax = plt.subplots(figsize=(4,4))\n",
    "sns.heatmap(confusion_matrix(y_test_og, og_predictions['scaledXGB']), fmt='g', annot=True, cmap='PuBuGn', cbar=False);"
   ]
  },
  {
   "attachments": {},
   "cell_type": "markdown",
   "metadata": {},
   "source": [
    "- make a table that only contains falsely predicted rows\n",
    "- compare data distributions of falsely predicted vs entire data"
   ]
  },
  {
   "cell_type": "code",
   "execution_count": null,
   "metadata": {},
   "outputs": [],
   "source": []
  }
 ],
 "metadata": {
  "kernelspec": {
   "display_name": "neuefische_3.9",
   "language": "python",
   "name": "python3"
  },
  "language_info": {
   "codemirror_mode": {
    "name": "ipython",
    "version": 3
   },
   "file_extension": ".py",
   "mimetype": "text/x-python",
   "name": "python",
   "nbconvert_exporter": "python",
   "pygments_lexer": "ipython3",
   "version": "3.9.8"
  },
  "orig_nbformat": 4,
  "vscode": {
   "interpreter": {
    "hash": "309606f209db4fc5c1154461673897e078aa13a2c12d82a588e6345b008e720c"
   }
  }
 },
 "nbformat": 4,
 "nbformat_minor": 2
}
